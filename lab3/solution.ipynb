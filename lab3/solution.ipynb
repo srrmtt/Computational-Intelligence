{
 "cells": [
  {
   "cell_type": "markdown",
   "metadata": {},
   "source": [
    "# Lab 3: Policy Search\n",
    "Solution written by Serra Matteo and Matteo Magnaldi."
   ]
  },
  {
   "cell_type": "code",
   "execution_count": 1,
   "metadata": {},
   "outputs": [],
   "source": [
    "import logging\n",
    "#from minmax import *\n",
    "from agent import *\n",
    "from nim import Nim\n",
    "from utility import play, run_benchmark, nim_sum\n",
    "import random\n",
    "from typing import Callable\n",
    "from expert_strategy import ExpertSystem, System\n",
    "from evo_rule_strategy import EvolvedRulesAgent, cook_status\n",
    "from minmax import MinMaxAgent\n",
    "from math import inf\n",
    "import os\n",
    "logging.getLogger().setLevel(logging.INFO)\n"
   ]
  },
  {
   "attachments": {},
   "cell_type": "markdown",
   "metadata": {},
   "source": [
    "### Expert System"
   ]
  },
  {
   "cell_type": "code",
   "execution_count": 2,
   "metadata": {},
   "outputs": [
    {
     "name": "stderr",
     "output_type": "stream",
     "text": [
      "100%|██████████| 10000/10000 [00:01<00:00, 7118.49it/s]\n",
      "INFO:root:Winning rate: random system vs random system: 99.77000000000001\n",
      "100%|██████████| 10000/10000 [00:01<00:00, 7607.93it/s]\n",
      "INFO:root:Winning rate: expert system vs expert system: 50.01\n"
     ]
    }
   ],
   "source": [
    "NIM_DIM = 4\n",
    "BENCHMARK_ITER = 10_000\n",
    "\n",
    "win_rate = run_benchmark(BENCHMARK_ITER,NIM_DIM,ExpertSystem.next_move,System.random_move)\n",
    "logging.info(f\"Winning rate: random system vs random system: {win_rate}\")\n",
    "win_rate = run_benchmark(BENCHMARK_ITER,NIM_DIM,ExpertSystem.next_move,ExpertSystem.next_move)\n",
    "logging.info(f\"Winning rate: expert system vs expert system: {win_rate}\")\n"
   ]
  },
  {
   "attachments": {},
   "cell_type": "markdown",
   "metadata": {},
   "source": [
    "### Evolved Rules Agent"
   ]
  },
  {
   "cell_type": "code",
   "execution_count": 3,
   "metadata": {},
   "outputs": [],
   "source": [
    "\n",
    "NUM_GENERATIONS = 100\n",
    "POPULATION_SIZE = 30\n",
    "NUM_ITER = 200\n",
    "NUM_ROUND = 200\n",
    "NUM_COOK_STATUS = 8\n",
    "\n"
   ]
  },
  {
   "cell_type": "code",
   "execution_count": 4,
   "metadata": {},
   "outputs": [
    {
     "name": "stderr",
     "output_type": "stream",
     "text": [
      "100%|██████████| 100/100 [14:25<00:00,  8.65s/it]\n"
     ]
    }
   ],
   "source": [
    "train = False\n",
    "ea_dump_path = f'./data/evolved_agent-{NIM_DIM}.data'\n",
    "\n",
    "evolved_agent = EvolvedRulesAgent(NUM_GENERATIONS, NIM_DIM, NUM_ITER, NUM_ROUND, NUM_COOK_STATUS, pop_size=POPULATION_SIZE)\n",
    "\n",
    "if os.path.isfile(ea_dump_path) and not train:\n",
    "    evolved_agent = EvolvedRulesAgent.from_file(ea_dump_path)\n",
    "else:\n",
    "    evolved_agent.train()\n",
    "    evolved_agent.dump(ea_dump_path)\n",
    "\n"
   ]
  },
  {
   "cell_type": "code",
   "execution_count": 5,
   "metadata": {},
   "outputs": [
    {
     "name": "stderr",
     "output_type": "stream",
     "text": [
      "100%|██████████| 10000/10000 [00:01<00:00, 7287.43it/s]\n",
      "INFO:root:Winning rate: first evolved agent vs expert system: 0.9400000000000001\n",
      "100%|██████████| 10000/10000 [00:01<00:00, 6813.68it/s]\n",
      "INFO:root:Winning rate: first evolved agent vs random system: 55.19\n"
     ]
    }
   ],
   "source": [
    "win_rate = run_benchmark(BENCHMARK_ITER, NIM_DIM, evolved_agent.next_move, ExpertSystem.next_move)\n",
    "logging.info(f\"Winning rate: first evolved agent vs expert system: {win_rate}\")\n",
    "\n",
    "win_rate = run_benchmark(BENCHMARK_ITER, NIM_DIM, evolved_agent.next_move, System.random_move)\n",
    "logging.info(f\"Winning rate: first evolved agent vs random system: {win_rate}\")\n"
   ]
  },
  {
   "attachments": {},
   "cell_type": "markdown",
   "metadata": {},
   "source": [
    "### Second Evolved Rules System"
   ]
  },
  {
   "cell_type": "code",
   "execution_count": 6,
   "metadata": {},
   "outputs": [
    {
     "name": "stderr",
     "output_type": "stream",
     "text": [
      "100%|██████████| 1000/1000 [03:40<00:00,  4.54it/s]\n"
     ]
    }
   ],
   "source": [
    "Q = 0.01\n",
    "NUM_ROUND = 1000\n",
    "NUM_ITER = 1000\n",
    "\n",
    "train = False\n",
    "er_dump_path = f'./data/er_agent-{NIM_DIM}.data'\n",
    "\n",
    "er_agent = EvolvedRulesAgent(NUM_GENERATIONS, NIM_DIM, NUM_ITER, NUM_ROUND, NUM_COOK_STATUS, q=Q)\n",
    "\n",
    "if os.path.isfile(er_dump_path) and not train:\n",
    "    er_agent = EvolvedRulesAgent.from_file(er_dump_path)\n",
    "else:\n",
    "    er_agent.train_with_rewards()\n",
    "    er_agent.dump(er_dump_path)"
   ]
  },
  {
   "cell_type": "code",
   "execution_count": 7,
   "metadata": {},
   "outputs": [
    {
     "name": "stderr",
     "output_type": "stream",
     "text": [
      "100%|██████████| 10000/10000 [00:01<00:00, 5878.97it/s]\n",
      "INFO:root:Winning rate: first evolved agent vs expert system: 0.49\n",
      "100%|██████████| 10000/10000 [00:02<00:00, 4962.17it/s]\n",
      "INFO:root:Winning rate: first evolved agent vs random system: 54.510000000000005\n"
     ]
    }
   ],
   "source": [
    "win_rate = run_benchmark(BENCHMARK_ITER, NIM_DIM, er_agent.next_move, ExpertSystem.next_move)\n",
    "logging.info(f\"Winning rate: first evolved agent vs expert system: {win_rate}\")\n",
    "\n",
    "win_rate = run_benchmark(BENCHMARK_ITER, NIM_DIM, er_agent.next_move, System.random_move)\n",
    "logging.info(f\"Winning rate: first evolved agent vs random system: {win_rate}\")"
   ]
  },
  {
   "attachments": {},
   "cell_type": "markdown",
   "metadata": {},
   "source": [
    "### MinMax Agent"
   ]
  },
  {
   "cell_type": "code",
   "execution_count": 8,
   "metadata": {},
   "outputs": [
    {
     "name": "stderr",
     "output_type": "stream",
     "text": [
      "100%|██████████| 10000/10000 [00:16<00:00, 622.97it/s]\n",
      "INFO:root:Winning rate minmax vs random_move: 100.0\n",
      "100%|██████████| 10000/10000 [02:19<00:00, 71.70it/s]\n",
      "INFO:root:Winning rate minmax vs expert system: 49.0\n"
     ]
    }
   ],
   "source": [
    "minmax_agent = MinMaxAgent()\n",
    "win_rate = run_benchmark(BENCHMARK_ITER, NIM_DIM, minmax_agent.next_move, System.random_move)\n",
    "logging.info(f\"Winning rate minmax vs random_move: {win_rate}\")\n",
    "win_rate = run_benchmark(BENCHMARK_ITER, NIM_DIM, minmax_agent.next_move, ExpertSystem.next_move)\n",
    "logging.info(f\"Winning rate minmax vs expert system: {win_rate}\")\n"
   ]
  },
  {
   "cell_type": "code",
   "execution_count": 9,
   "metadata": {},
   "outputs": [],
   "source": [
    "\n",
    "from matplotlib import pyplot as plt\n",
    "def plot_tuning_results(alphas:list, epsilons:list, win_rates: list):\n",
    "    for alpha in alphas:  \n",
    "        x = [w[0][1] for w in win_rates if w[0][0] == alpha]\n",
    "        y = [w[1] for w in win_rates if w[0][0] == alpha]\n",
    "        plt.plot(x, y, label=f\"alpha = {alpha}\")\n",
    "    plt.xlabel(\"epsilon\")\n",
    "    plt.ylabel(\"win win_Rate\")\n",
    "    plt.title(\"win ratio against expert system\")\n",
    "    plt.xticks(epsilons)\n",
    "    plt.legend()\n",
    "    plt.show()"
   ]
  },
  {
   "attachments": {},
   "cell_type": "markdown",
   "metadata": {},
   "source": [
    "### Reinforcement Learning Agent"
   ]
  },
  {
   "cell_type": "code",
   "execution_count": 10,
   "metadata": {},
   "outputs": [],
   "source": [
    "NUM_ROUND = 10_000\n",
    "nim = Nim(NIM_DIM)\n",
    "\n",
    "train = False\n",
    "dump_path = f'./data/RL_agent-{NIM_DIM}.data'\n",
    "\n",
    "\n",
    "alphas = [0.02, 0.04, 0.06, 0.1, 0.2, 0.3]\n",
    "epsilons = [0.1, 0.2, 0.3, 0.4, 0.5, 0.6]\n",
    "\n",
    "\n",
    "\n",
    "if not train and os.path.isfile(dump_path):\n",
    "    rl_agent = RLAgent.from_file(dump_path)\n",
    "else:\n",
    "    win_rates = RLAgent.tune(NUM_ROUND, 5000, NIM_DIM, alphas, epsilons, ea_dump_path)\n",
    "    plot_tuning_results(alphas, epsilons, win_rates)\n",
    "    \n",
    "    alpha, epsilon = max(win_rates, key= lambda w : w[1])[0]\n",
    "    \n",
    "    rl_agent = RLAgent(nim._rows, alpha=alpha, random_factor=epsilon)\n",
    "    rl_agent.train(NIM_DIM, NUM_ROUND)\n",
    "    rl_agent.dump(dump_path)\n",
    "\n",
    "\n"
   ]
  },
  {
   "cell_type": "code",
   "execution_count": 11,
   "metadata": {},
   "outputs": [
    {
     "name": "stderr",
     "output_type": "stream",
     "text": [
      "100%|██████████| 10000/10000 [00:01<00:00, 8838.07it/s]\n",
      "INFO:root:Winning rate RL agent vs expert system: 9.09 %\n"
     ]
    }
   ],
   "source": [
    "rl_agent.random_factor = 0\n",
    "win_rate = run_benchmark(BENCHMARK_ITER, NIM_DIM, rl_agent.choose_action, ExpertSystem.next_move)\n",
    "logging.info(f\"Winning rate RL agent vs expert system: {win_rate} %\")\n"
   ]
  },
  {
   "cell_type": "code",
   "execution_count": 12,
   "metadata": {},
   "outputs": [],
   "source": [
    "def human_player(nim:Nim):\n",
    "    print(f\"board: {nim._rows}\")\n",
    "    move = input(f\"inserisci la mossa(row,k)\")\n",
    "    row,k = move.split(',')\n",
    "    nim.niming(int(row),int(k))\n",
    "    #return int(row),int(k)\n",
    "\n",
    "\n"
   ]
  },
  {
   "attachments": {},
   "cell_type": "markdown",
   "metadata": {},
   "source": [
    "### Alternative Version\n",
    "Part of the code is taken from https://cs50.harvard.edu/extension/ai/2020/spring/projects/4/nim/ but much of the \"intelligence\" is written by us."
   ]
  },
  {
   "cell_type": "code",
   "execution_count": 13,
   "metadata": {},
   "outputs": [],
   "source": [
    "from nim_oxford import train, play\n",
    "\n",
    "def _make_strategy(ai):\n",
    "    def strategy(nim: Nim):\n",
    "        return ai.choose_action(nim._rows)\n",
    "    return strategy\n",
    "\n",
    "alphas = [0.05, 0.1, 0.2, 0.3, 0.4, 0.5]\n",
    "epsilons = [0.05, 0.1, 0.2, 0.3, 0.4, 0.5, 0.6]\n",
    "\n",
    "win_ratios = []\n",
    "for alpha in alphas:\n",
    "    for epsilon in epsilons:\n",
    "        ai = train(BENCHMARK_ITER, NIM_DIM, alpha=alpha, espilon=epsilon)\n",
    "        rl_strategy = _make_strategy(ai)\n",
    "        win_ratio = run_benchmark(BENCHMARK_ITER, NIM_DIM, rl_strategy, ExpertSystem.next_move, show_progress=False)\n",
    "        win_ratios.append(((alpha, epsilon), win_ratio))\n"
   ]
  },
  {
   "cell_type": "code",
   "execution_count": 14,
   "metadata": {},
   "outputs": [
    {
     "ename": "TypeError",
     "evalue": "plot_tuning_results() missing 1 required positional argument: 'win_rates'",
     "output_type": "error",
     "traceback": [
      "\u001b[0;31m---------------------------------------------------------------------------\u001b[0m",
      "\u001b[0;31mTypeError\u001b[0m                                 Traceback (most recent call last)",
      "Cell \u001b[0;32mIn [14], line 1\u001b[0m\n\u001b[0;32m----> 1\u001b[0m plot_tuning_results(alphas, win_ratios)\n\u001b[1;32m      3\u001b[0m (alpha, epsilon) \u001b[39m=\u001b[39m \u001b[39mmax\u001b[39m(win_ratios, key\u001b[39m=\u001b[39m \u001b[39mlambda\u001b[39;00m w : w[\u001b[39m1\u001b[39m])[\u001b[39m0\u001b[39m]\n\u001b[1;32m      4\u001b[0m ai \u001b[39m=\u001b[39m train(BENCHMARK_ITER, NIM_DIM, alpha\u001b[39m=\u001b[39malpha, espilon\u001b[39m=\u001b[39mepsilon)\n",
      "\u001b[0;31mTypeError\u001b[0m: plot_tuning_results() missing 1 required positional argument: 'win_rates'"
     ]
    }
   ],
   "source": [
    "\n",
    "\n",
    "plot_tuning_results(alphas, epsilons, win_ratios)\n",
    "\n",
    "(alpha, epsilon) = max(win_ratios, key= lambda w : w[1])[0]\n",
    "ai = train(BENCHMARK_ITER, NIM_DIM, alpha=alpha, espilon=epsilon)\n",
    "        \n"
   ]
  },
  {
   "cell_type": "code",
   "execution_count": null,
   "metadata": {},
   "outputs": [
    {
     "name": "stderr",
     "output_type": "stream",
     "text": [
      "100%|██████████| 7/7 [00:28<00:00,  4.11s/it]\n"
     ]
    },
    {
     "data": {
      "image/png": "[encoded data removed]",
      "text/plain": [
       "<Figure size 1200x600 with 1 Axes>"
      ]
     },
     "metadata": {},
     "output_type": "display_data"
    }
   ],
   "source": [
    "from tqdm import trange, tqdm\n",
    "N_ITER = 1000\n",
    "agents = {\"random\" : System.random_move,\n",
    "          \"expert\": ExpertSystem.next_move,\n",
    "          \"evolved_rule_1\": evolved_agent.next_move,\n",
    "          \"evolved_rule_2\": er_agent.next_move,\n",
    "          \"min_max\": minmax_agent.next_move,\n",
    "          \"rl_agent\": rl_agent.choose_action,\n",
    "          \"rl_oxford\": rl_strategy}\n",
    "colors = [\"orange\", \"orangered\", \"lightpink\", \"orchid\", \"darkviolet\", \"indigo\", \"steelblue\"]\n",
    "labels = list(agents.keys())\n",
    "width = 0.7\n",
    "\n",
    "fig, ax = plt.subplots(figsize=(12, 6))\n",
    "\n",
    "x = numpy.arange(len(labels)) \n",
    "all_wrs = []\n",
    "for name, agent in tqdm(agents.items()):\n",
    "    wrs = []\n",
    "    for opponent_name, opponent in agents.items():\n",
    "        \n",
    "        wr = run_benchmark(N_ITER, NIM_DIM, agent, opponent, show_progress=False)\n",
    "        wrs.append(wr)\n",
    "    all_wrs.append(wrs)\n",
    "all_wrs = numpy.array(all_wrs).T\n",
    "for i, wrs, color in zip([3, 2, 1, 0, -1, -2, -3], all_wrs, colors):\n",
    "    offset = i * width/7\n",
    "    plt.bar(x-offset , wrs, width/7, color=color)\n",
    "\n",
    "plt.xticks(x, labels)\n",
    "plt.xlabel(\"Agents\")\n",
    "plt.ylabel(\"Win rate (%)\")\n",
    "plt.legend(labels)\n",
    "plt.grid(axis='y')\n",
    "plt.yticks(numpy.arange(0, 110, 10))\n",
    "plt.show()\n"
   ]
  }
 ],
 "metadata": {
  "kernelspec": {
   "display_name": "Python 3.10.7 64-bit",
   "language": "python",
   "name": "python3"
  },
  "language_info": {
   "codemirror_mode": {
    "name": "ipython",
    "version": 3
   },
   "file_extension": ".py",
   "mimetype": "text/x-python",
   "name": "python",
   "nbconvert_exporter": "python",
   "pygments_lexer": "ipython3",
   "version": "3.10.7"
  },
  "orig_nbformat": 4,
  "vscode": {
   "interpreter": {
    "hash": "916dbcbb3f70747c44a77c7bcd40155683ae19c65e1c03b4aa3499c5328201f1"
   }
  }
 },
 "nbformat": 4,
 "nbformat_minor": 2
}
